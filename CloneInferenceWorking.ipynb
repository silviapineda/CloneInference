{
 "cells": [
  {
   "cell_type": "code",
   "execution_count": 22,
   "metadata": {
    "collapsed": false,
    "scrolled": false
   },
   "outputs": [],
   "source": [
    "###import pandas library to work with data frames\n",
    "import pandas\n",
    "data_clonesInference = pandas.read_csv(\"/Users/Pinedasans/Data/VDJ/data_clonesInference.txt\",sep=\"\\t\")\n",
    "#data_clonesInference.head"
   ]
  },
  {
   "cell_type": "code",
   "execution_count": 23,
   "metadata": {
    "collapsed": true
   },
   "outputs": [],
   "source": [
    "###Obtain the unique samples\n",
    "sample_unique = data_clonesInference['specimen_label'].unique()\n",
    "#Declare result: total number of clones infered per sample\n",
    "ClonesInfered_sample = []\n",
    "###Loop for each sample\n",
    "for i in range(0,len(sample_unique)):\n",
    "    print (i)\n",
    "    data_clonesInference_sample_unique = data_clonesInference[data_clonesInference['specimen_label'] == sample_unique[i]]\n",
    "    V_J_CDR3_unique = data_clonesInference_sample_unique['V_J_lenghCDR3'].unique()\n",
    "    ClonesInfered = 0\n",
    "    ##Loop for each V_J_CDR3 unique \n",
    "    for j in range(0,len(V_J_CDR3_unique)):\n",
    "        data_clonesInference_V_J_CDR3_unique = data_clonesInference_sample_unique[data_clonesInference_sample_unique['V_J_lenghCDR3'] == V_J_CDR3_unique[j]]\n",
    "        nucleotides = list(data_clonesInference_V_J_CDR3_unique['cdr3_seq'])\n",
    "        ##Obtain the number of clones infered per sample\n",
    "        ClonesInfered = ClonesInfered + len(ProcessNucleotides(nucleotides))\n",
    "    ClonesInfered_sample.append(ClonesInfered)  \n",
    "###Result    \n",
    "clones_count_sample = panda.DataFrame(\n",
    "{'specimen_label':sample_unique,\n",
    "'num_clones':ClonesInfered_sample\n",
    "}) \n",
    "clones_count_sample.to_csv('/Users/Pinedasans/Data/VDJ/clones_count_sample.csv')"
   ]
  },
  {
   "cell_type": "code",
   "execution_count": null,
   "metadata": {
    "collapsed": false
   },
   "outputs": [],
   "source": []
  },
  {
   "cell_type": "code",
   "execution_count": null,
   "metadata": {
    "collapsed": true
   },
   "outputs": [],
   "source": []
  },
  {
   "cell_type": "code",
   "execution_count": null,
   "metadata": {
    "collapsed": true
   },
   "outputs": [],
   "source": []
  },
  {
   "cell_type": "code",
   "execution_count": null,
   "metadata": {
    "collapsed": false
   },
   "outputs": [],
   "source": []
  },
  {
   "cell_type": "code",
   "execution_count": null,
   "metadata": {
    "collapsed": true
   },
   "outputs": [],
   "source": []
  },
  {
   "cell_type": "code",
   "execution_count": null,
   "metadata": {
    "collapsed": true
   },
   "outputs": [],
   "source": []
  },
  {
   "cell_type": "code",
   "execution_count": 24,
   "metadata": {
    "collapsed": false
   },
   "outputs": [],
   "source": []
  },
  {
   "cell_type": "code",
   "execution_count": null,
   "metadata": {
    "collapsed": false
   },
   "outputs": [],
   "source": []
  },
  {
   "cell_type": "code",
   "execution_count": null,
   "metadata": {
    "collapsed": false
   },
   "outputs": [],
   "source": []
  },
  {
   "cell_type": "code",
   "execution_count": null,
   "metadata": {
    "collapsed": true
   },
   "outputs": [],
   "source": []
  },
  {
   "cell_type": "code",
   "execution_count": null,
   "metadata": {
    "collapsed": false
   },
   "outputs": [],
   "source": []
  },
  {
   "cell_type": "code",
   "execution_count": null,
   "metadata": {
    "collapsed": true
   },
   "outputs": [],
   "source": []
  },
  {
   "cell_type": "code",
   "execution_count": null,
   "metadata": {
    "collapsed": false
   },
   "outputs": [],
   "source": []
  },
  {
   "cell_type": "code",
   "execution_count": 68,
   "metadata": {
    "collapsed": false
   },
   "outputs": [],
   "source": [
    "\n"
   ]
  },
  {
   "cell_type": "code",
   "execution_count": 161,
   "metadata": {
    "collapsed": false
   },
   "outputs": [],
   "source": []
  },
  {
   "cell_type": "code",
   "execution_count": 164,
   "metadata": {
    "collapsed": false
   },
   "outputs": [],
   "source": []
  },
  {
   "cell_type": "code",
   "execution_count": null,
   "metadata": {
    "collapsed": false
   },
   "outputs": [],
   "source": []
  },
  {
   "cell_type": "code",
   "execution_count": null,
   "metadata": {
    "collapsed": false
   },
   "outputs": [],
   "source": []
  },
  {
   "cell_type": "code",
   "execution_count": 12,
   "metadata": {
    "collapsed": false
   },
   "outputs": [],
   "source": [
    "def MatchNucleotides( a,b ):\n",
    "    count = len(a)\n",
    "    threshold = len(a)*0.9\n",
    "    for i in range(0, len(a)):\n",
    "        if(a[i]!=b[i]):\n",
    "            count = count-1\n",
    "            if count < threshold:\n",
    "                return False\n",
    "    return True   \n",
    "    "
   ]
  },
  {
   "cell_type": "code",
   "execution_count": null,
   "metadata": {
    "collapsed": false
   },
   "outputs": [],
   "source": [
    "\n"
   ]
  },
  {
   "cell_type": "code",
   "execution_count": null,
   "metadata": {
    "collapsed": true
   },
   "outputs": [],
   "source": []
  },
  {
   "cell_type": "code",
   "execution_count": 303,
   "metadata": {
    "collapsed": false,
    "scrolled": true
   },
   "outputs": [
    {
     "name": "stdout",
     "output_type": "stream",
     "text": [
      "9.0\n"
     ]
    },
    {
     "data": {
      "text/plain": [
       "False"
      ]
     },
     "execution_count": 303,
     "metadata": {},
     "output_type": "execute_result"
    }
   ],
   "source": [
    "MatchNucleotides(\"abcddabcde\",\"abcddabcdf\")\n"
   ]
  },
  {
   "cell_type": "code",
   "execution_count": 13,
   "metadata": {
    "collapsed": false
   },
   "outputs": [],
   "source": [
    "def NucleotideBelongsClone(nucleotide,clone):\n",
    "    for i in range(0,len(clone)):\n",
    "        matches=MatchNucleotides(nucleotide,clone[i])\n",
    "        if(matches): \n",
    "            return True\n",
    "    return False    "
   ]
  },
  {
   "cell_type": "code",
   "execution_count": 41,
   "metadata": {
    "collapsed": false
   },
   "outputs": [
    {
     "data": {
      "text/plain": [
       "True"
      ]
     },
     "execution_count": 41,
     "metadata": {},
     "output_type": "execute_result"
    }
   ],
   "source": [
    "NucleotideBelongsClone(\"abcdeabcde\",[\"abcddabcdf\",\"abcdeabcdy\"])\n"
   ]
  },
  {
   "cell_type": "code",
   "execution_count": 14,
   "metadata": {
    "collapsed": true
   },
   "outputs": [],
   "source": [
    "def AddNucleotide(nucleotide,clones):\n",
    "    clones_new=[]\n",
    "    nucleotide_clone = [nucleotide]\n",
    "    for i in range(0,len(clones)):\n",
    "        if(NucleotideBelongsClone(nucleotide,clones[i])):\n",
    "            nucleotide_clone = nucleotide_clone + clones[i]\n",
    "        else:\n",
    "            clones_new.append(clones[i])\n",
    "    clones_new.append(nucleotide_clone)\n",
    "    return clones_new"
   ]
  },
  {
   "cell_type": "code",
   "execution_count": null,
   "metadata": {
    "collapsed": true
   },
   "outputs": [],
   "source": []
  },
  {
   "cell_type": "code",
   "execution_count": 15,
   "metadata": {
    "collapsed": true
   },
   "outputs": [],
   "source": [
    "def ProcessNucleotides(nucleotides):\n",
    "    clones=[]\n",
    "    for i in range(0,len(nucleotides)):\n",
    "        clones = AddNucleotide(nucleotides[i], clones)\n",
    "    return clones\n",
    "                "
   ]
  },
  {
   "cell_type": "code",
   "execution_count": 122,
   "metadata": {
    "collapsed": false
   },
   "outputs": [
    {
     "data": {
      "text/plain": [
       "[['abcddabcdf', 'abcddabcdd'], ['abcdeabcde', 'abcddabcdf', 'abcddabcde']]"
      ]
     },
     "execution_count": 122,
     "metadata": {},
     "output_type": "execute_result"
    }
   ],
   "source": [
    "AddNucleotide(\"abcdeabcde\",[[\"abcddabcdf\",\"abcddabcde\"],[\"abcddabcdf\",\"abcddabcdd\"]])"
   ]
  },
  {
   "cell_type": "code",
   "execution_count": 103,
   "metadata": {
    "collapsed": true
   },
   "outputs": [],
   "source": [
    "nucleotide=\"abcdeabcde\"\n",
    "clones=[[\"abcddabcdf\",\"abcddabcde\"],[\"abcddabcdf\",\"abcddabcdd\"]]"
   ]
  },
  {
   "cell_type": "code",
   "execution_count": null,
   "metadata": {
    "collapsed": true
   },
   "outputs": [],
   "source": [
    "nucleotides=[\"abcdeabcde\",\"abcddabcdf\",\"abcdeabcdy\"]"
   ]
  },
  {
   "cell_type": "code",
   "execution_count": 157,
   "metadata": {
    "collapsed": false
   },
   "outputs": [
    {
     "data": {
      "text/plain": [
       "[['abcddabcdf'], ['abcdeabcdy', 'abcdeabcde']]"
      ]
     },
     "execution_count": 157,
     "metadata": {},
     "output_type": "execute_result"
    }
   ],
   "source": [
    "ProcessNucleotides(['abcdeabcde', 'abcddabcdf', 'abcdeabcdy'])"
   ]
  },
  {
   "cell_type": "code",
   "execution_count": null,
   "metadata": {
    "collapsed": true
   },
   "outputs": [],
   "source": []
  },
  {
   "cell_type": "code",
   "execution_count": null,
   "metadata": {
    "collapsed": false
   },
   "outputs": [],
   "source": []
  },
  {
   "cell_type": "code",
   "execution_count": 86,
   "metadata": {
    "collapsed": true
   },
   "outputs": [],
   "source": []
  },
  {
   "cell_type": "code",
   "execution_count": null,
   "metadata": {
    "collapsed": false
   },
   "outputs": [],
   "source": []
  },
  {
   "cell_type": "code",
   "execution_count": null,
   "metadata": {
    "collapsed": true
   },
   "outputs": [],
   "source": []
  }
 ],
 "metadata": {
  "anaconda-cloud": {},
  "kernelspec": {
   "display_name": "Python [conda root]",
   "language": "python",
   "name": "conda-root-py"
  },
  "language_info": {
   "codemirror_mode": {
    "name": "ipython",
    "version": 3
   },
   "file_extension": ".py",
   "mimetype": "text/x-python",
   "name": "python",
   "nbconvert_exporter": "python",
   "pygments_lexer": "ipython3",
   "version": "3.5.2"
  }
 },
 "nbformat": 4,
 "nbformat_minor": 1
}
