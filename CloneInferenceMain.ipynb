{
 "cells": [
  {
   "cell_type": "code",
   "execution_count": 3,
   "metadata": {
    "collapsed": true
   },
   "outputs": [],
   "source": [
    "###import pandas library to work with data frames\n",
    "import pandas\n",
    "data_clonesInference = pandas.read_csv(\"/Users/Pinedasans/Data/VDJ/data_clonesInference.txt\",sep=\"\\t\")\n",
    "#data_clonesInference.head\n"
   ]
  },
  {
   "cell_type": "code",
   "execution_count": 9,
   "metadata": {
    "collapsed": false
   },
   "outputs": [
    {
     "data": {
      "text/plain": [
       "array(['7_S03', '7_S02', '7_S01', '7_S05', '7_S06', '7_S04', '7_S08',\n",
       "       '7_S09', '7_S07', '7_S11', '7_S12', '7_S10', '7_S15', '7_S13',\n",
       "       '7_S14', '7_S17', '7_S18', '7_S16', '7_S20', '7_S21', '7_S19',\n",
       "       '7_S23', '7_S24', '7_S22', '7_S26', '7_S27', '7_S25', '7_S29',\n",
       "       '7_S30', '7_S28', '7_S31', '7_S32', '7_S33', '7_S35', '7_S36',\n",
       "       '7_S34', '7_S38', '7_S39', '7_S37', '7_S41', '7_S42', '7_S40',\n",
       "       '7_S44', '7_S45', '7_S43', '7_S47', '7_S48', '7_S46', '7_S50',\n",
       "       '7_S51', '7_S49', '7_S53', '7_S54', '7_S52', '7_S57', '7_S55',\n",
       "       '7_S56', '7_S59', '7_S60', '7_S58', '7_S62', '7_S63', '7_S64',\n",
       "       'M154-S005', 'M154-S006', '7_S61', '7_S66', '7_S67', '7_S65',\n",
       "       '7_S69', '7_S70', '7_S68', '7_S72', '7_S73', '7_S71', '7_S75',\n",
       "       '7_S76', 'M154-S009', 'M154-S010', '7_S74', '7_S78', '7_S79',\n",
       "       '7_S77', '7_S80', '7_S81', '7_S82', '7_S83', 'M154-S001',\n",
       "       'M154-S002', '7_S84', '7_S85', '7_S86', '7_S87', '7_S88', '7_S89',\n",
       "       '7_S90', '7_S91', 'M154-S003', 'M154-S004', 'M154-S007',\n",
       "       'M154-S008', 'M154-S011', 'M154-S012'], dtype=object)"
      ]
     },
     "execution_count": 9,
     "metadata": {},
     "output_type": "execute_result"
    }
   ],
   "source": [
    "data_clonesInference.head\n",
    "sample_unique = data_clonesInference['specimen_label'].unique()\n",
    "sample_unique"
   ]
  },
  {
   "cell_type": "code",
   "execution_count": null,
   "metadata": {
    "collapsed": false
   },
   "outputs": [],
   "source": [
    "###Obtain the unique samples\n",
    "sample_unique = data_clonesInference['specimen_label'].unique()\n",
    "##Declare result: total number of clones infered per sample\n",
    "ClonesInfered_sample = []\n",
    "ReadsPerClone = []\n",
    "###Loop for each sample\n",
    "for i in range(0,len(sample_unique)):\n",
    "    print (i)\n",
    "    data_clonesInference_sample_unique = data_clonesInference[data_clonesInference['specimen_label'] == sample_unique[i]]\n",
    "    V_J_CDR3_unique = data_clonesInference_sample_unique['V_J_lenghCDR3'].unique()\n",
    "    ClonesInfered = 0\n",
    "    ##Loop for each V_J_CDR3 unique \n",
    "    for j in range(0,len(V_J_CDR3_unique)):\n",
    "        data_clonesInference_V_J_CDR3_unique = data_clonesInference_sample_unique[data_clonesInference_sample_unique['V_J_lenghCDR3'] == V_J_CDR3_unique[j]]\n",
    "        nucleotides = list(data_clonesInference_V_J_CDR3_unique['cdr3_seq'])\n",
    "        ##Obtain the number of clones infered per sample\n",
    "        ClonesInfered = ClonesInfered + len(ProcessNucleotides(nucleotides))\n",
    "    ClonesInfered_sample.append(ClonesInfered)\n",
    "    ReadsPerClone.append (len(data_clonesInference_sample_unique)/ClonesInfered_sample[0])\n",
    "    \n",
    "###Result    \n",
    "clones_count_sample = pandas.DataFrame(\n",
    "{'specimen_label':sample_unique,\n",
    "'num_clones':ClonesInfered_sample\n",
    "'reads_per_clone':ReadsPerClone\n",
    "}) \n",
    "clones_count_sample.to_csv('/Users/Pinedasans/Data/VDJ/clones_count_sample.csv')"
   ]
  },
  {
   "cell_type": "code",
   "execution_count": 10,
   "metadata": {
    "collapsed": false
   },
   "outputs": [],
   "source": [
    "sample_unique = data_clonesInference['specimen_label'].unique()\n",
    "##Declare result: total number of clones infered per sample\n",
    "ClonesInfered_sample = []"
   ]
  },
  {
   "cell_type": "code",
   "execution_count": 51,
   "metadata": {
    "collapsed": false
   },
   "outputs": [
    {
     "name": "stdout",
     "output_type": "stream",
     "text": [
      "0\n"
     ]
    },
    {
     "ename": "ValueError",
     "evalue": "arrays must all be same length",
     "output_type": "error",
     "traceback": [
      "\u001b[0;31m---------------------------------------------------------------------------\u001b[0m",
      "\u001b[0;31mValueError\u001b[0m                                Traceback (most recent call last)",
      "\u001b[0;32m<ipython-input-51-ce3d4e520e91>\u001b[0m in \u001b[0;36m<module>\u001b[0;34m()\u001b[0m\n\u001b[1;32m     22\u001b[0m {'specimen_label':sample_unique,\n\u001b[1;32m     23\u001b[0m \u001b[0;34m'num_clones'\u001b[0m\u001b[0;34m:\u001b[0m\u001b[0mClonesInfered_sample\u001b[0m\u001b[0;34m,\u001b[0m\u001b[0;34m\u001b[0m\u001b[0m\n\u001b[0;32m---> 24\u001b[0;31m \u001b[0;34m'reads_per_clone'\u001b[0m\u001b[0;34m:\u001b[0m\u001b[0mReadsPerClone\u001b[0m\u001b[0;34m\u001b[0m\u001b[0m\n\u001b[0m\u001b[1;32m     25\u001b[0m }) \n",
      "\u001b[0;32m/Users/Pinedasans/anaconda/lib/python3.5/site-packages/pandas/core/frame.py\u001b[0m in \u001b[0;36m__init__\u001b[0;34m(self, data, index, columns, dtype, copy)\u001b[0m\n\u001b[1;32m    222\u001b[0m                                  dtype=dtype, copy=copy)\n\u001b[1;32m    223\u001b[0m         \u001b[0;32melif\u001b[0m \u001b[0misinstance\u001b[0m\u001b[0;34m(\u001b[0m\u001b[0mdata\u001b[0m\u001b[0;34m,\u001b[0m \u001b[0mdict\u001b[0m\u001b[0;34m)\u001b[0m\u001b[0;34m:\u001b[0m\u001b[0;34m\u001b[0m\u001b[0m\n\u001b[0;32m--> 224\u001b[0;31m             \u001b[0mmgr\u001b[0m \u001b[0;34m=\u001b[0m \u001b[0mself\u001b[0m\u001b[0;34m.\u001b[0m\u001b[0m_init_dict\u001b[0m\u001b[0;34m(\u001b[0m\u001b[0mdata\u001b[0m\u001b[0;34m,\u001b[0m \u001b[0mindex\u001b[0m\u001b[0;34m,\u001b[0m \u001b[0mcolumns\u001b[0m\u001b[0;34m,\u001b[0m \u001b[0mdtype\u001b[0m\u001b[0;34m=\u001b[0m\u001b[0mdtype\u001b[0m\u001b[0;34m)\u001b[0m\u001b[0;34m\u001b[0m\u001b[0m\n\u001b[0m\u001b[1;32m    225\u001b[0m         \u001b[0;32melif\u001b[0m \u001b[0misinstance\u001b[0m\u001b[0;34m(\u001b[0m\u001b[0mdata\u001b[0m\u001b[0;34m,\u001b[0m \u001b[0mma\u001b[0m\u001b[0;34m.\u001b[0m\u001b[0mMaskedArray\u001b[0m\u001b[0;34m)\u001b[0m\u001b[0;34m:\u001b[0m\u001b[0;34m\u001b[0m\u001b[0m\n\u001b[1;32m    226\u001b[0m             \u001b[0;32mimport\u001b[0m \u001b[0mnumpy\u001b[0m\u001b[0;34m.\u001b[0m\u001b[0mma\u001b[0m\u001b[0;34m.\u001b[0m\u001b[0mmrecords\u001b[0m \u001b[0;32mas\u001b[0m \u001b[0mmrecords\u001b[0m\u001b[0;34m\u001b[0m\u001b[0m\n",
      "\u001b[0;32m/Users/Pinedasans/anaconda/lib/python3.5/site-packages/pandas/core/frame.py\u001b[0m in \u001b[0;36m_init_dict\u001b[0;34m(self, data, index, columns, dtype)\u001b[0m\n\u001b[1;32m    358\u001b[0m             \u001b[0marrays\u001b[0m \u001b[0;34m=\u001b[0m \u001b[0;34m[\u001b[0m\u001b[0mdata\u001b[0m\u001b[0;34m[\u001b[0m\u001b[0mk\u001b[0m\u001b[0;34m]\u001b[0m \u001b[0;32mfor\u001b[0m \u001b[0mk\u001b[0m \u001b[0;32min\u001b[0m \u001b[0mkeys\u001b[0m\u001b[0;34m]\u001b[0m\u001b[0;34m\u001b[0m\u001b[0m\n\u001b[1;32m    359\u001b[0m \u001b[0;34m\u001b[0m\u001b[0m\n\u001b[0;32m--> 360\u001b[0;31m         \u001b[0;32mreturn\u001b[0m \u001b[0m_arrays_to_mgr\u001b[0m\u001b[0;34m(\u001b[0m\u001b[0marrays\u001b[0m\u001b[0;34m,\u001b[0m \u001b[0mdata_names\u001b[0m\u001b[0;34m,\u001b[0m \u001b[0mindex\u001b[0m\u001b[0;34m,\u001b[0m \u001b[0mcolumns\u001b[0m\u001b[0;34m,\u001b[0m \u001b[0mdtype\u001b[0m\u001b[0;34m=\u001b[0m\u001b[0mdtype\u001b[0m\u001b[0;34m)\u001b[0m\u001b[0;34m\u001b[0m\u001b[0m\n\u001b[0m\u001b[1;32m    361\u001b[0m \u001b[0;34m\u001b[0m\u001b[0m\n\u001b[1;32m    362\u001b[0m     \u001b[0;32mdef\u001b[0m \u001b[0m_init_ndarray\u001b[0m\u001b[0;34m(\u001b[0m\u001b[0mself\u001b[0m\u001b[0;34m,\u001b[0m \u001b[0mvalues\u001b[0m\u001b[0;34m,\u001b[0m \u001b[0mindex\u001b[0m\u001b[0;34m,\u001b[0m \u001b[0mcolumns\u001b[0m\u001b[0;34m,\u001b[0m \u001b[0mdtype\u001b[0m\u001b[0;34m=\u001b[0m\u001b[0;32mNone\u001b[0m\u001b[0;34m,\u001b[0m \u001b[0mcopy\u001b[0m\u001b[0;34m=\u001b[0m\u001b[0;32mFalse\u001b[0m\u001b[0;34m)\u001b[0m\u001b[0;34m:\u001b[0m\u001b[0;34m\u001b[0m\u001b[0m\n",
      "\u001b[0;32m/Users/Pinedasans/anaconda/lib/python3.5/site-packages/pandas/core/frame.py\u001b[0m in \u001b[0;36m_arrays_to_mgr\u001b[0;34m(arrays, arr_names, index, columns, dtype)\u001b[0m\n\u001b[1;32m   5229\u001b[0m     \u001b[0;31m# figure out the index, if necessary\u001b[0m\u001b[0;34m\u001b[0m\u001b[0;34m\u001b[0m\u001b[0m\n\u001b[1;32m   5230\u001b[0m     \u001b[0;32mif\u001b[0m \u001b[0mindex\u001b[0m \u001b[0;32mis\u001b[0m \u001b[0;32mNone\u001b[0m\u001b[0;34m:\u001b[0m\u001b[0;34m\u001b[0m\u001b[0m\n\u001b[0;32m-> 5231\u001b[0;31m         \u001b[0mindex\u001b[0m \u001b[0;34m=\u001b[0m \u001b[0mextract_index\u001b[0m\u001b[0;34m(\u001b[0m\u001b[0marrays\u001b[0m\u001b[0;34m)\u001b[0m\u001b[0;34m\u001b[0m\u001b[0m\n\u001b[0m\u001b[1;32m   5232\u001b[0m     \u001b[0;32melse\u001b[0m\u001b[0;34m:\u001b[0m\u001b[0;34m\u001b[0m\u001b[0m\n\u001b[1;32m   5233\u001b[0m         \u001b[0mindex\u001b[0m \u001b[0;34m=\u001b[0m \u001b[0m_ensure_index\u001b[0m\u001b[0;34m(\u001b[0m\u001b[0mindex\u001b[0m\u001b[0;34m)\u001b[0m\u001b[0;34m\u001b[0m\u001b[0m\n",
      "\u001b[0;32m/Users/Pinedasans/anaconda/lib/python3.5/site-packages/pandas/core/frame.py\u001b[0m in \u001b[0;36mextract_index\u001b[0;34m(data)\u001b[0m\n\u001b[1;32m   5277\u001b[0m             \u001b[0mlengths\u001b[0m \u001b[0;34m=\u001b[0m \u001b[0mlist\u001b[0m\u001b[0;34m(\u001b[0m\u001b[0mset\u001b[0m\u001b[0;34m(\u001b[0m\u001b[0mraw_lengths\u001b[0m\u001b[0;34m)\u001b[0m\u001b[0;34m)\u001b[0m\u001b[0;34m\u001b[0m\u001b[0m\n\u001b[1;32m   5278\u001b[0m             \u001b[0;32mif\u001b[0m \u001b[0mlen\u001b[0m\u001b[0;34m(\u001b[0m\u001b[0mlengths\u001b[0m\u001b[0;34m)\u001b[0m \u001b[0;34m>\u001b[0m \u001b[0;36m1\u001b[0m\u001b[0;34m:\u001b[0m\u001b[0;34m\u001b[0m\u001b[0m\n\u001b[0;32m-> 5279\u001b[0;31m                 \u001b[0;32mraise\u001b[0m \u001b[0mValueError\u001b[0m\u001b[0;34m(\u001b[0m\u001b[0;34m'arrays must all be same length'\u001b[0m\u001b[0;34m)\u001b[0m\u001b[0;34m\u001b[0m\u001b[0m\n\u001b[0m\u001b[1;32m   5280\u001b[0m \u001b[0;34m\u001b[0m\u001b[0m\n\u001b[1;32m   5281\u001b[0m             \u001b[0;32mif\u001b[0m \u001b[0mhave_dicts\u001b[0m\u001b[0;34m:\u001b[0m\u001b[0;34m\u001b[0m\u001b[0m\n",
      "\u001b[0;31mValueError\u001b[0m: arrays must all be same length"
     ]
    }
   ],
   "source": [
    "###Obtain the unique samples\n",
    "sample_unique = data_clonesInference['specimen_label'].unique()\n",
    "##Declare result: total number of clones infered per sample\n",
    "ClonesInfered_sample = []\n",
    "ReadsPerClone = []\n",
    "###Loop for each sample\n",
    "for i in range(0,1):\n",
    "    print (i)\n",
    "    data_clonesInference_sample_unique = data_clonesInference[data_clonesInference['specimen_label'] == sample_unique[i]]\n",
    "    V_J_CDR3_unique = data_clonesInference_sample_unique['V_J_lenghCDR3'].unique()\n",
    "    ClonesInfered = 0\n",
    "    ##Loop for each V_J_CDR3 unique \n",
    "    for j in range(0,len(V_J_CDR3_unique)):\n",
    "        data_clonesInference_V_J_CDR3_unique = data_clonesInference_sample_unique[data_clonesInference_sample_unique['V_J_lenghCDR3'] == V_J_CDR3_unique[j]]\n",
    "        nucleotides = list(data_clonesInference_V_J_CDR3_unique['cdr3_seq'])\n",
    "        ##Obtain the number of clones infered per sample\n",
    "        ClonesInfered = ClonesInfered + len(ProcessNucleotides(nucleotides))\n",
    "    ClonesInfered_sample.append(ClonesInfered)  \n",
    "    ReadsPerClone.append(len(data_clonesInference_sample_unique)/ClonesInfered_sample[0])\n",
    "###Result    \n",
    "clones_count_sample = pandas.DataFrame(\n",
    "{'specimen_label':sample_unique,\n",
    "'num_clones':ClonesInfered_sample,\n",
    "'reads_per_clone':ReadsPerClone\n",
    "}) "
   ]
  },
  {
   "cell_type": "code",
   "execution_count": null,
   "metadata": {
    "collapsed": true
   },
   "outputs": [],
   "source": []
  },
  {
   "cell_type": "code",
   "execution_count": 41,
   "metadata": {
    "collapsed": false
   },
   "outputs": [
    {
     "data": {
      "text/plain": [
       "1.6727272727272726"
      ]
     },
     "execution_count": 41,
     "metadata": {},
     "output_type": "execute_result"
    }
   ],
   "source": [
    "ReadsPerC"
   ]
  },
  {
   "cell_type": "code",
   "execution_count": 38,
   "metadata": {
    "collapsed": false
   },
   "outputs": [
    {
     "data": {
      "text/plain": [
       "2024"
      ]
     },
     "execution_count": 38,
     "metadata": {},
     "output_type": "execute_result"
    }
   ],
   "source": [
    "len(data_clonesInference_sample_unique)"
   ]
  },
  {
   "cell_type": "code",
   "execution_count": 39,
   "metadata": {
    "collapsed": false
   },
   "outputs": [
    {
     "data": {
      "text/plain": [
       "0.5978260869565217"
      ]
     },
     "execution_count": 39,
     "metadata": {},
     "output_type": "execute_result"
    }
   ],
   "source": [
    "ClonesInfered_sample[0]/len(data_clonesInference_sample_unique)"
   ]
  },
  {
   "cell_type": "code",
   "execution_count": null,
   "metadata": {
    "collapsed": true
   },
   "outputs": [],
   "source": []
  },
  {
   "cell_type": "code",
   "execution_count": null,
   "metadata": {
    "collapsed": true
   },
   "outputs": [],
   "source": []
  },
  {
   "cell_type": "code",
   "execution_count": 11,
   "metadata": {
    "collapsed": true
   },
   "outputs": [],
   "source": [
    "def MatchNucleotides( a,b ):\n",
    "    count = 0\n",
    "    for i in range(0, len(a)):\n",
    "        if(a[i]==b[i]):\n",
    "            count=count+1\n",
    "            \n",
    "    return (float(count)/len(a))>=0.9     "
   ]
  },
  {
   "cell_type": "code",
   "execution_count": 12,
   "metadata": {
    "collapsed": true
   },
   "outputs": [],
   "source": [
    "def NucleotideBelongsClone(nucleotide,clone):\n",
    "    for i in range(0,len(clone)):\n",
    "        matches=MatchNucleotides(nucleotide,clone[i])\n",
    "        if(matches): \n",
    "            return True\n",
    "    return False      "
   ]
  },
  {
   "cell_type": "code",
   "execution_count": 13,
   "metadata": {
    "collapsed": true
   },
   "outputs": [],
   "source": [
    "def AddNucleotide(nucleotide,clones):\n",
    "    clones_new=[]\n",
    "    nucleotide_clone = [nucleotide]\n",
    "    for i in range(0,len(clones)):\n",
    "        if(NucleotideBelongsClone(nucleotide,clones[i])):\n",
    "            nucleotide_clone = nucleotide_clone + clones[i]\n",
    "        else:\n",
    "            clones_new.append(clones[i])\n",
    "    clones_new.append(nucleotide_clone)\n",
    "    return clones_new"
   ]
  },
  {
   "cell_type": "code",
   "execution_count": 14,
   "metadata": {
    "collapsed": true
   },
   "outputs": [],
   "source": [
    "def ProcessNucleotides(nucleotides):\n",
    "    clones=[]\n",
    "    for i in range(0,len(nucleotides)):\n",
    "        clones = AddNucleotide(nucleotides[i], clones)\n",
    "    return clones"
   ]
  },
  {
   "cell_type": "code",
   "execution_count": null,
   "metadata": {
    "collapsed": true
   },
   "outputs": [],
   "source": []
  }
 ],
 "metadata": {
  "anaconda-cloud": {},
  "kernelspec": {
   "display_name": "Python [default]",
   "language": "python",
   "name": "python3"
  },
  "language_info": {
   "codemirror_mode": {
    "name": "ipython",
    "version": 3
   },
   "file_extension": ".py",
   "mimetype": "text/x-python",
   "name": "python",
   "nbconvert_exporter": "python",
   "pygments_lexer": "ipython3",
   "version": "3.5.2"
  }
 },
 "nbformat": 4,
 "nbformat_minor": 1
}
